{
 "cells": [
  {
   "cell_type": "markdown",
   "id": "3c262345",
   "metadata": {},
   "source": [
    "# **USING PYTHON(sqlite built-in)good for Notebooks & Scripts**"
   ]
  },
  {
   "cell_type": "markdown",
   "id": "be2212dd",
   "metadata": {},
   "source": [
    "**STEP 1:**\n",
    "Create DB and tables,insert rows,query - all in Python."
   ]
  },
  {
   "cell_type": "code",
   "execution_count": 5,
   "id": "204017e7",
   "metadata": {},
   "outputs": [],
   "source": [
    "import sqlite3\n",
    "\n",
    "# Connect (Creates file if missing)\n",
    "conn = sqlite3.connect(\"my_database.db\")\n",
    "cur = conn.cursor()"
   ]
  },
  {
   "cell_type": "code",
   "execution_count": 8,
   "id": "12bb9a56",
   "metadata": {},
   "outputs": [
    {
     "data": {
      "text/plain": [
       "<sqlite3.Cursor at 0x1ea14be5340>"
      ]
     },
     "execution_count": 8,
     "metadata": {},
     "output_type": "execute_result"
    }
   ],
   "source": [
    "# Create Table\n",
    "cur.execute(\"\"\"\n",
    "CREATE TABLE IF NOT EXISTS PEOPLE(\n",
    "            ID Int PRIMARY KEY,\n",
    "            Name Text,\n",
    "            Age Int,\n",
    "            Email Text\n",
    "            );\n",
    "            \"\"\")"
   ]
  },
  {
   "cell_type": "code",
   "execution_count": 9,
   "id": "0f67c165",
   "metadata": {},
   "outputs": [],
   "source": [
    "# Insert roes (Parameterized to avoid SQL Injection)\n",
    "PEOPLE = [\n",
    "    (\"Bob\", 29, \"bob@flatironschool.com\"),\n",
    "    (\"James\",28, \"james@flatioronschool.com\"),\n",
    "    (\"John\", 29, \"john@flatironschool.com\"),\n",
    "]"
   ]
  },
  {
   "cell_type": "code",
   "execution_count": 12,
   "id": "e79d8cbb",
   "metadata": {},
   "outputs": [],
   "source": [
    "# Run a SELECT Query\n",
    "cur.execute (\"SELECT ID, Name, Age,Email FROM PEOPLE;\")\n",
    "rows = cur.fetchall()\n",
    "for row in rows:\n",
    "    print(row)"
   ]
  },
  {
   "cell_type": "code",
   "execution_count": 13,
   "id": "713ec913",
   "metadata": {},
   "outputs": [
    {
     "name": "stdout",
     "output_type": "stream",
     "text": [
      "[]\n"
     ]
    }
   ],
   "source": [
    "# aggregates example\n",
    "cur.execute(\"SELECT age, COUNT(*) FROM people GROUP BY age;\")\n",
    "print(cur.fetchall())\n",
    "\n",
    "# cleanup\n",
    "conn.close()"
   ]
  },
  {
   "cell_type": "code",
   "execution_count": null,
   "id": "c48aa639",
   "metadata": {},
   "outputs": [],
   "source": []
  }
 ],
 "metadata": {
  "kernelspec": {
   "display_name": "learn-env",
   "language": "python",
   "name": "python3"
  },
  "language_info": {
   "codemirror_mode": {
    "name": "ipython",
    "version": 3
   },
   "file_extension": ".py",
   "mimetype": "text/x-python",
   "name": "python",
   "nbconvert_exporter": "python",
   "pygments_lexer": "ipython3",
   "version": "3.8.5"
  }
 },
 "nbformat": 4,
 "nbformat_minor": 5
}
